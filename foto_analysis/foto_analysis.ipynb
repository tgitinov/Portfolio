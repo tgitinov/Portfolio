{
 "cells": [
  {
   "cell_type": "markdown",
   "metadata": {},
   "source": [
    "# 1. Исследовательский анализ данных"
   ]
  },
  {
   "cell_type": "markdown",
   "metadata": {},
   "source": [
    "Подключаем библиотеки."
   ]
  },
  {
   "cell_type": "code",
   "execution_count": 1,
   "metadata": {},
   "outputs": [],
   "source": [
    "import pandas as pd\n",
    "from tensorflow.keras.preprocessing.image import ImageDataGenerator\n",
    "from PIL import Image\n",
    "import matplotlib.pyplot as plt\n",
    "import numpy as np"
   ]
  },
  {
   "cell_type": "markdown",
   "metadata": {},
   "source": [
    "Имортируем и смотрим на данные."
   ]
  },
  {
   "cell_type": "code",
   "execution_count": 2,
   "metadata": {
    "scrolled": true,
    "tags": [
     "a0ea6cf0-58f4-4b62-808c-26c82dd0478d"
    ]
   },
   "outputs": [],
   "source": [
    "photo = pd.read_csv('/datasets/faces/labels.csv')"
   ]
  },
  {
   "cell_type": "code",
   "execution_count": 3,
   "metadata": {
    "scrolled": false
   },
   "outputs": [
    {
     "data": {
      "text/html": [
       "<div>\n",
       "<style scoped>\n",
       "    .dataframe tbody tr th:only-of-type {\n",
       "        vertical-align: middle;\n",
       "    }\n",
       "\n",
       "    .dataframe tbody tr th {\n",
       "        vertical-align: top;\n",
       "    }\n",
       "\n",
       "    .dataframe thead th {\n",
       "        text-align: right;\n",
       "    }\n",
       "</style>\n",
       "<table border=\"1\" class=\"dataframe\">\n",
       "  <thead>\n",
       "    <tr style=\"text-align: right;\">\n",
       "      <th></th>\n",
       "      <th>file_name</th>\n",
       "      <th>real_age</th>\n",
       "    </tr>\n",
       "  </thead>\n",
       "  <tbody>\n",
       "    <tr>\n",
       "      <td>0</td>\n",
       "      <td>000000.jpg</td>\n",
       "      <td>4</td>\n",
       "    </tr>\n",
       "    <tr>\n",
       "      <td>1</td>\n",
       "      <td>000001.jpg</td>\n",
       "      <td>18</td>\n",
       "    </tr>\n",
       "    <tr>\n",
       "      <td>2</td>\n",
       "      <td>000002.jpg</td>\n",
       "      <td>80</td>\n",
       "    </tr>\n",
       "    <tr>\n",
       "      <td>3</td>\n",
       "      <td>000003.jpg</td>\n",
       "      <td>50</td>\n",
       "    </tr>\n",
       "    <tr>\n",
       "      <td>4</td>\n",
       "      <td>000004.jpg</td>\n",
       "      <td>17</td>\n",
       "    </tr>\n",
       "  </tbody>\n",
       "</table>\n",
       "</div>"
      ],
      "text/plain": [
       "    file_name  real_age\n",
       "0  000000.jpg         4\n",
       "1  000001.jpg        18\n",
       "2  000002.jpg        80\n",
       "3  000003.jpg        50\n",
       "4  000004.jpg        17"
      ]
     },
     "execution_count": 3,
     "metadata": {},
     "output_type": "execute_result"
    }
   ],
   "source": [
    "photo.head()"
   ]
  },
  {
   "cell_type": "code",
   "execution_count": 4,
   "metadata": {
    "scrolled": true
   },
   "outputs": [
    {
     "name": "stdout",
     "output_type": "stream",
     "text": [
      "<class 'pandas.core.frame.DataFrame'>\n",
      "RangeIndex: 7591 entries, 0 to 7590\n",
      "Data columns (total 2 columns):\n",
      "file_name    7591 non-null object\n",
      "real_age     7591 non-null int64\n",
      "dtypes: int64(1), object(1)\n",
      "memory usage: 118.7+ KB\n"
     ]
    }
   ],
   "source": [
    "photo.info()"
   ]
  },
  {
   "cell_type": "code",
   "execution_count": 5,
   "metadata": {
    "scrolled": false
   },
   "outputs": [
    {
     "data": {
      "text/plain": [
       "(7591, 2)"
      ]
     },
     "execution_count": 5,
     "metadata": {},
     "output_type": "execute_result"
    }
   ],
   "source": [
    "photo.shape"
   ]
  },
  {
   "cell_type": "markdown",
   "metadata": {},
   "source": [
    "Смотрим как распределен целевой признак 'real_age'."
   ]
  },
  {
   "cell_type": "code",
   "execution_count": 6,
   "metadata": {
    "scrolled": false
   },
   "outputs": [
    {
     "data": {
      "image/png": "[encoded data removed]",
      "text/plain": [
       "<Figure size 720x504 with 1 Axes>"
      ]
     },
     "metadata": {
      "needs_background": "light"
     },
     "output_type": "display_data"
    }
   ],
   "source": [
    "photo['real_age'].hist(bins=50, figsize=(10,7));\n",
    "plt.title('Распределение целевого признака', fontsize=21);\n",
    "plt.xlabel('Возраст, лет', fontsize=14);\n",
    "plt.ylabel('Количество фотографий', fontsize=14);"
   ]
  },
  {
   "cell_type": "markdown",
   "metadata": {},
   "source": [
    "<b>Из гистограммы распределения возраста видим, что основные данные распределены в возрастном диапазоне 10 - 50 лет, предположительно распознавание возраста вне этого диапазона будет происходить менее точно."
   ]
  },
  {
   "cell_type": "markdown",
   "metadata": {},
   "source": [
    "Выведем одну произвольную фотографию, например 000009.jpg."
   ]
  },
  {
   "cell_type": "code",
   "execution_count": 7,
   "metadata": {
    "scrolled": false
   },
   "outputs": [],
   "source": [
    "#image = Image.open('/datasets/faces/final_files/000009.jpg')\n",
    "#plt.imshow(np.array(image))"
   ]
  },
  {
   "cell_type": "markdown",
   "metadata": {},
   "source": [
    "Подключаем динамическую загрузку данных 'ImageDataGenerator', который сформирует батчи с изображениями и метками классов."
   ]
  },
  {
   "cell_type": "code",
   "execution_count": 8,
   "metadata": {},
   "outputs": [],
   "source": [
    "train_datagen = ImageDataGenerator(rescale=1./255)"
   ]
  },
  {
   "cell_type": "code",
   "execution_count": 9,
   "metadata": {
    "scrolled": true
   },
   "outputs": [
    {
     "name": "stdout",
     "output_type": "stream",
     "text": [
      "Found 7591 validated image filenames.\n"
     ]
    }
   ],
   "source": [
    "train_gen_flow = train_datagen.flow_from_dataframe(\n",
    "        dataframe=photo,\n",
    "        directory='/datasets/faces/final_files/',\n",
    "        x_col='file_name',\n",
    "        y_col='real_age',\n",
    "        target_size=(224, 224),\n",
    "        batch_size=32,\n",
    "        class_mode='raw',\n",
    "        seed=12345)"
   ]
  },
  {
   "cell_type": "code",
   "execution_count": 10,
   "metadata": {},
   "outputs": [],
   "source": [
    "features, target = next(train_gen_flow)"
   ]
  },
  {
   "cell_type": "markdown",
   "metadata": {},
   "source": [
    "Напечатаем на экране 15 фотографий и посмотрим, как устроен датасет."
   ]
  },
  {
   "cell_type": "code",
   "execution_count": 11,
   "metadata": {},
   "outputs": [],
   "source": [
    "#fig = plt.figure(figsize=(10,10))\n",
    "#for i in range(15):\n",
    "#    fig.add_subplot(4, 4, i+1)\n",
    "#    plt.imshow(features[i])\n",
    "##Для компактности удаляем оси и прижимаем изображения друг к другу\n",
    "#    plt.xticks([])\n",
    "#    plt.yticks([])\n",
    "#    plt.tight_layout()"
   ]
  },
  {
   "cell_type": "markdown",
   "metadata": {},
   "source": [
    "<b>Наблюдаем, что в датасете имеются цетные фотографии в фас/профиль, черно-белые, некоторые изображения повернуты, на некоторых лицо частично закрыто объектами (микрофон, пузырь от жевачки и пр.)"
   ]
  },
  {
   "cell_type": "markdown",
   "metadata": {},
   "source": [
    "# 2. Обучение модели"
   ]
  },
  {
   "cell_type": "markdown",
   "metadata": {},
   "source": [
    "Код в следующей ячейке выполнялся на удаленной вычислительной машине с мощным GPU-адаптером, поэтому ниже будет просто сам код и результат вывода."
   ]
  },
  {
   "cell_type": "markdown",
   "metadata": {},
   "source": [
    "```python\n",
    "from tensorflow import keras\n",
    "from tensorflow.keras.models import Sequential\n",
    "import numpy as np\n",
    "from tensorflow.keras.optimizers import Adam\n",
    "from tensorflow.keras.layers import Conv2D, Flatten, Dense, AveragePooling2D, GlobalAveragePooling2D\n",
    "from tensorflow.keras.preprocessing.image import ImageDataGenerator\n",
    "from tensorflow.keras.applications.resnet import ResNet50\n",
    "import pandas as pd\n",
    "import matplotlib.pyplot as plt\n",
    "import tensorflow as tf\n",
    "\n",
    " \n",
    "def load_train(path):\n",
    "    labels = pd.read_csv(path + 'labels.csv')\n",
    "    datagen = ImageDataGenerator(validation_split=0.25, horizontal_flip=True, rescale=1./255)\n",
    "    train_gen_flow = datagen.flow_from_dataframe(\n",
    "        dataframe=labels,\n",
    "        directory=path + 'final_files/',\n",
    "        x_col='file_name',\n",
    "        y_col='real_age',\n",
    "        target_size=(224, 224),\n",
    "        batch_size=16,\n",
    "        class_mode='raw',\n",
    "        subset='training',\n",
    "        seed=12345)\n",
    " \n",
    "    return train_gen_flow\n",
    " \n",
    "def load_test(path):\n",
    "    labels = pd.read_csv(path + 'labels.csv')\n",
    "    datagen = ImageDataGenerator(validation_split=0.25, rescale=1./255)\n",
    "    test_gen_flow = datagen.flow_from_dataframe(\n",
    "        dataframe=labels,\n",
    "        directory=path + 'final_files/',\n",
    "        x_col='file_name',\n",
    "        y_col='real_age',\n",
    "        target_size=(224, 224),\n",
    "        batch_size=16,\n",
    "        class_mode='raw',\n",
    "        subset='validation',\n",
    "        seed=12345)\n",
    " \n",
    "    return test_gen_flow\n",
    " \n",
    " \n",
    "def create_model(input_shape):\n",
    " \n",
    "    backbone = ResNet50(input_shape=input_shape,\n",
    "                    weights='imagenet', \n",
    "                    include_top=False)\n",
    "    model = Sequential()\n",
    "    model.add(backbone)\n",
    "    model.add(GlobalAveragePooling2D())\n",
    "    model.add(Dense(1, activation='relu'))\n",
    " \n",
    "    optimizer = Adam(lr=0.0001)\n",
    "    model.compile(optimizer=optimizer, loss='mean_squared_error',\n",
    "                  metrics=['mae'])\n",
    " \n",
    " \n",
    "    return model\n",
    " \n",
    " \n",
    "def train_model(model, train_data, test_data, batch_size=None, epochs=15,\n",
    "                steps_per_epoch=None, validation_steps=None):\n",
    " \n",
    "    if steps_per_epoch is None:\n",
    "        steps_per_epoch = len(train_data)\n",
    "    if validation_steps is None:\n",
    "        validation_steps = len(test_data)\n",
    " \n",
    "    model.fit(train_data,\n",
    "              validation_data=test_data,\n",
    "              batch_size=batch_size, \n",
    "              epochs=epochs,\n",
    "              steps_per_epoch=steps_per_epoch,\n",
    "              validation_steps=validation_steps,\n",
    "              verbose=2)\n",
    " \n",
    "    return model\n",
    "\n",
    "```"
   ]
  },
  {
   "cell_type": "markdown",
   "metadata": {},
   "source": [
    "Отметим, что гипераметр - отражение по горизонтали (horizontal_flip=True), используем только на обучающей выборке."
   ]
  },
  {
   "cell_type": "markdown",
   "metadata": {},
   "source": [
    "Вывод результата."
   ]
  },
  {
   "cell_type": "markdown",
   "metadata": {},
   "source": [
    "```\n",
    "Train for 356 steps, validate for 119 steps\n",
    "Epoch 1/15\n",
    "2020-09-14 13:22:21.899428: I tensorflow/stream_executor/platform/default/dso_loader.cc:44] Successfully opened dynamic library libcublas.so.10\n",
    "2020-09-14 13:22:26.210568: I tensorflow/stream_executor/platform/default/dso_loader.cc:44] Successfully opened dynamic library libcudnn.so.7\n",
    "356/356 - 115s - loss: 211.6846 - mae: 10.6036 - val_loss: 342.8734 - val_mae: 13.6825\n",
    "Epoch 2/15\n",
    "356/356 - 43s - loss: 83.5044 - mae: 6.9538 - val_loss: 128.5952 - val_mae: 8.6221\n",
    "Epoch 3/15\n",
    "356/356 - 42s - loss: 57.5533 - mae: 5.7748 - val_loss: 113.4030 - val_mae: 8.4032\n",
    "Epoch 4/15\n",
    "356/356 - 43s - loss: 41.0339 - mae: 4.9054 - val_loss: 90.2606 - val_mae: 7.4251\n",
    "Epoch 5/15\n",
    "356/356 - 42s - loss: 32.4065 - mae: 4.3296 - val_loss: 71.7431 - val_mae: 6.2268\n",
    "Epoch 6/15\n",
    "356/356 - 42s - loss: 23.7696 - mae: 3.7524 - val_loss: 71.0380 - val_mae: 6.2272\n",
    "Epoch 7/15\n",
    "356/356 - 43s - loss: 19.5383 - mae: 3.3593 - val_loss: 67.8080 - val_mae: 6.1246\n",
    "Epoch 8/15\n",
    "356/356 - 43s - loss: 16.3821 - mae: 3.0881 - val_loss: 69.7284 - val_mae: 6.4570\n",
    "Epoch 9/15\n",
    "356/356 - 42s - loss: 14.3362 - mae: 2.8569 - val_loss: 70.7964 - val_mae: 6.2557\n",
    "Epoch 10/15\n",
    "356/356 - 43s - loss: 13.0397 - mae: 2.7656 - val_loss: 66.6664 - val_mae: 6.1902\n",
    "Epoch 11/15\n",
    "356/356 - 43s - loss: 12.6585 - mae: 2.6974 - val_loss: 63.3757 - val_mae: 5.9735\n",
    "Epoch 12/15\n",
    "356/356 - 42s - loss: 12.5881 - mae: 2.7261 - val_loss: 65.5236 - val_mae: 6.1887\n",
    "Epoch 13/15\n",
    "356/356 - 43s - loss: 11.5974 - mae: 2.5897 - val_loss: 63.4278 - val_mae: 5.9279\n",
    "Epoch 14/15\n",
    "356/356 - 43s - loss: 11.4288 - mae: 2.5757 - val_loss: 63.5739 - val_mae: 6.0537\n",
    "Epoch 15/15\n",
    "356/356 - 43s - loss: 11.4554 - mae: 2.5785 - val_loss: 64.6065 - val_mae: 5.9401\n",
    "WARNING:tensorflow:sample_weight modes were coerced from\n",
    "  ...\n",
    "    to  \n",
    "  ['...']\n",
    "119/119 - 10s - loss: 64.6065 - mae: 5.9401\n",
    "Test MAE: 5.9401\n",
    "```"
   ]
  },
  {
   "cell_type": "markdown",
   "metadata": {},
   "source": [
    "Метрика MAE на тестовой выборке получилась равна 5.9401."
   ]
  },
  {
   "cell_type": "markdown",
   "metadata": {},
   "source": [
    "# 3. Анализ обученной модели"
   ]
  },
  {
   "cell_type": "markdown",
   "metadata": {},
   "source": [
    "<b>Мы обучили модель с хорошей точностью - метрика MAE на валидационной выборке равна 5,9401. Нейронные сети отлично себя показыают на анализе графической информации, однако, огромная заслуга результатов - в отточенной архитектуре модели, за основу которой мы брали ResNet50, а именно:   \n",
    " - модель предобучалась на большом датасете ImageNet, т.е. мы начали обучение сети на ImageNet, а продолжили на нашей задаче, тем самым результат получился лучше, нежели обучать с нуля.   \n",
    " - чтобы избежать переобучения и повысить скорость обучения, мы \"заморозили\" часть сети: некоторые слои оставили с весами из ImageNet, они не будут обучаться градиентным спуском. Чтобы сеть обучалась, добавленный сверху полносвязный слой замораживать не стали.   \n",
    " - использовали алгоритм Adam (от англ. adaptive moment estimation, «адаптивность на основе оценки моментов»), который подбирает различные параметры для разных нейронов, что также ускоряет обучение модели. Мы изменили гиперпараметр lr с по умолчанию 0.001 на 0.0001, что улучшило качество модели.   \n",
    " - увеличили обучающую выборку путем аугментации - добавили в сет повернутые по горизонтали изображения."
   ]
  }
 ],
 "metadata": {
  "kernelspec": {
   "display_name": "Python 3",
   "language": "python",
   "name": "python3"
  },
  "language_info": {
   "codemirror_mode": {
    "name": "ipython",
    "version": 3
   },
   "file_extension": ".py",
   "mimetype": "text/x-python",
   "name": "python",
   "nbconvert_exporter": "python",
   "pygments_lexer": "ipython3",
   "version": "3.7.6"
  }
 },
 "nbformat": 4,
 "nbformat_minor": 2
}
